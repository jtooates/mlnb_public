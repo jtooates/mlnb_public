{
 "cells": [
  {
   "cell_type": "code",
   "execution_count": 1,
   "id": "30e4d58d-4ed5-4acb-a44e-94e4a6688e99",
   "metadata": {},
   "outputs": [],
   "source": [
    "import matplotlib.pyplot as plt\n",
    "import numpy as np\n",
    "import itertools"
   ]
  },
  {
   "cell_type": "code",
   "execution_count": 2,
   "id": "916359ae-af36-467c-adf0-7ec3d9fe50b8",
   "metadata": {},
   "outputs": [],
   "source": [
    "def sigmoid(x):\n",
    "    return 1 / (1 + np.exp(-x))"
   ]
  },
  {
   "cell_type": "code",
   "execution_count": 1,
   "id": "deff6b00-f7f8-48f0-8a91-d54a58c43609",
   "metadata": {},
   "outputs": [],
   "source": [
    "def plot_sign():\n",
    "    x = np.linspace(-8, 8, 100)\n",
    "    y = np.sign(x)\n",
    "    plt.ylim(-1.1, 1.1)\n",
    "    plt.plot(x, y)\n",
    "\n",
    "    ax = plt.gca()\n",
    "    ax.set_xlabel(r'${\\bf w} \\cdot {\\bf x}$')\n",
    "    ax.set_ylabel(r'$\\hat y$')\n",
    "    \n",
    "    plt.title(r'Perceptron class label as a function of ${\\bf w} \\cdot {\\bf x}$')\n",
    "\n",
    "    plt.show()"
   ]
  },
  {
   "cell_type": "code",
   "execution_count": null,
   "id": "85a6d214-2ad5-4a08-8a4d-10a0285cbaa2",
   "metadata": {},
   "outputs": [],
   "source": []
  },
  {
   "cell_type": "code",
   "execution_count": 5,
   "id": "4cfbad89-84c0-4f6a-b59d-067b7981e1cb",
   "metadata": {},
   "outputs": [],
   "source": [
    "def plot_logistic():\n",
    "    x = np.linspace(-8, 8, 100)\n",
    "    y = sigmoid(x)\n",
    "    plt.ylim(-0.1, 1.1)\n",
    "    plt.plot(x, y)\n",
    "    plt.axvline(x = 0, ls = '--', lw = 0.5, color = 'black')\n",
    "    plt.axhline(y = 0.5, ls = '--', lw = 0.5, color = 'black')\n",
    "    ax = plt.gca()\n",
    "    ax.set_xlabel(r'${\\bf w} \\cdot {\\bf x}$')\n",
    "    ax.set_ylabel(r'$p_{\\bf w} ^{1}({\\bf x})$')\n",
    "    plt.show()"
   ]
  },
  {
   "cell_type": "code",
   "execution_count": null,
   "id": "2afd2816-b05f-487b-a95b-aabb109266a4",
   "metadata": {},
   "outputs": [],
   "source": []
  },
  {
   "cell_type": "code",
   "execution_count": 9,
   "id": "bd1596a3-073d-4bb8-8349-0a37fe214d63",
   "metadata": {},
   "outputs": [],
   "source": [
    "def plot_MLE():\n",
    "    x = np.linspace(0.01, 0.99, 100)\n",
    "    y = np.power(x, 7) * np.power(1 - x, 3)\n",
    "    ax = plt.gca()\n",
    "    ax.set_xlabel(r'$\\theta$')\n",
    "    ax.set_ylabel(r'$L(D; \\theta)$')\n",
    "    plt.title(r'Probability of 7 heads and 3 tails as a function of $p({\\tt heads})$')\n",
    "    plt.plot(x, y)\n",
    "    plt.show()    "
   ]
  },
  {
   "cell_type": "code",
   "execution_count": 12,
   "id": "725cfe0a-b6c5-4420-b560-ac943a12a4ad",
   "metadata": {},
   "outputs": [],
   "source": [
    "def plot_ln():\n",
    "    x = np.linspace(0.01, 0.99, 100)\n",
    "    y = np.log(x)\n",
    "    ax = plt.gca()\n",
    "    ax.set_xlabel(r'$p$')\n",
    "    ax.set_ylabel(r'$\\log(p)$')\n",
    "    plt.title(r'The log is monotone with respect to its argument')\n",
    "    plt.plot(x, y)\n",
    "    plt.show()    "
   ]
  },
  {
   "cell_type": "code",
   "execution_count": 2,
   "id": "311ea786-9c7c-4952-bba6-3aae6afa3242",
   "metadata": {},
   "outputs": [],
   "source": [
    "def plot_weights(weights):\n",
    "    if not type(weights) == list:\n",
    "        weights = list(weights)\n",
    "    fig, (ax1, ax2, ax3) = plt.subplots(1, 3, figsize = (10, 3))\n",
    "    fig.tight_layout(pad = 2)\n",
    "    \n",
    "    ax1.set_title(r'$||w||$')\n",
    "    ax1.plot(np.linalg.norm(weights, axis = 1))\n",
    "    \n",
    "    ax2.set_xlabel('Number of Instances Processed')\n",
    "    ax2.set_title(r'$m$ (slope)')\n",
    "    ax2.plot([-w.iloc[1]/w.iloc[2] for w in weights])\n",
    "    \n",
    "    ax3.set_title(r'$b$ (intercept)')\n",
    "    ax3.plot([-w.iloc[0]/w.iloc[2] for w in weights])\n",
    "    \n",
    "    plt.show()"
   ]
  },
  {
   "cell_type": "code",
   "execution_count": 1,
   "id": "5b13f431-5777-45a9-be2e-c830e193e71f",
   "metadata": {},
   "outputs": [],
   "source": [
    "def plot_probabilities(df, weights, label = 'y'):\n",
    "    \n",
    "    features = list(df.columns)\n",
    "    features.remove(label)\n",
    "\n",
    "    p = df[features].apply(lambda row: sigmoid(np.dot(row, weights.iloc[1:]) + weights.iloc[0]), axis = 1).values\n",
    "    p = p.tolist()\n",
    "    p.sort()\n",
    "    \n",
    "    plt.ylim(-0.05, 1.05)\n",
    "    plt.xlabel('')\n",
    "    plt.xticks([])\n",
    "    plt.ylabel(r'$p_{\\bf w}^1({\\bf x})$')\n",
    "    plt.plot(p)\n",
    "    plt.show()"
   ]
  },
  {
   "cell_type": "code",
   "execution_count": 2,
   "id": "92c15c27-2edf-416a-b910-af8a640d0b22",
   "metadata": {},
   "outputs": [],
   "source": [
    "def lr_classify(row, weights, labels):\n",
    "    p = {}\n",
    "    for label in labels:\n",
    "        if label in weights:\n",
    "            p[label] = np.exp(np.dot(row, weights[label]))\n",
    "        else:\n",
    "            p[label] = 1\n",
    "    s = 1 + sum(p.values())\n",
    "    for label in labels:\n",
    "        p[label] /= s\n",
    "    return max(p.items(), key=lambda x: x[1])"
   ]
  },
  {
   "cell_type": "code",
   "execution_count": 3,
   "id": "afcb2898-3250-4040-b2fc-4d1610335ef5",
   "metadata": {},
   "outputs": [],
   "source": [
    "def plot_lr_regions(df, weights, label = 'y'):\n",
    "    \n",
    "    features = list(df.columns)\n",
    "    features.remove(label)\n",
    "    labels = sorted(df[label].unique())\n",
    "\n",
    "    pts = []\n",
    "    for feature in features:\n",
    "        pts.append(np.arange(min(df[feature]), max(df[feature]), 0.1))\n",
    "    pts = list(itertools.product(*pts))\n",
    "    \n",
    "    data = {'_x0_':np.full(len(pts), 1)}\n",
    "    for idx, feature in enumerate(features):\n",
    "        data[feature] = [pt[idx] for pt in pts]\n",
    "    \n",
    "    df2 = pd.DataFrame(data = data)\n",
    "    preds = df2.apply(lambda row: lr_classify(row, weights, labels), axis = 1)\n",
    "    df2[label] = [pred[0] for pred in preds]\n",
    "    \n",
    "    plot_2d(df2.drop('_x0_', axis = 1), \n",
    "            color_idx = [pred[1] for pred in preds], \n",
    "            weights = weights, show_separator = True)"
   ]
  },
  {
   "cell_type": "code",
   "execution_count": null,
   "id": "4ab68160-74ca-4a30-a116-e1af079b4d41",
   "metadata": {},
   "outputs": [],
   "source": []
  }
 ],
 "metadata": {
  "kernelspec": {
   "display_name": "Python 3 (ipykernel)",
   "language": "python",
   "name": "python3"
  },
  "language_info": {
   "codemirror_mode": {
    "name": "ipython",
    "version": 3
   },
   "file_extension": ".py",
   "mimetype": "text/x-python",
   "name": "python",
   "nbconvert_exporter": "python",
   "pygments_lexer": "ipython3",
   "version": "3.12.4"
  }
 },
 "nbformat": 4,
 "nbformat_minor": 5
}
